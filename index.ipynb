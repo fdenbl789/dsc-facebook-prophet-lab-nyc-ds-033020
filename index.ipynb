{
 "cells": [
  {
   "cell_type": "markdown",
   "metadata": {},
   "source": [
    "# Facebook Prophet - Lab\n",
    "\n",
    "## Introduction\n",
    "\n",
    "In the last lab, you learned how to visualize and manipulate time series data, and how to use ARIMA modeling to produce forecasts for time series data. You also learned how to conclude a correct parametrization of ARIMA models. This can be a complicated process, and while statistical programming languages such as R provide automated ways to solve this issue, those have yet to be officially ported over to Python. \n",
    "\n",
    "Fortunately, the Data Science team at Facebook recently published a new library called `fbprophet`, which enables data analysts and developers alike to perform forecasting at scale in Python. We encourage you to read [this article](https://research.fb.com/prophet-forecasting-at-scale/) by Facebook explaining how `fbprophet` simplifies the forecasting process and provides an improved predictive ability. \n",
    "\n",
    "## Objectives\n",
    "\n",
    "- Model a time series using the Facebook's Prophet \n",
    "- Describe the difference between ARIMA and Additive Synthesis for time series forecasting \n",
    "- Use the methods in the `fbprophet` library to plot predicted values \n",
    "\n",
    "## Facebook's Prophet\n",
    "\n",
    "Facebook's `prophet` uses an elegant yet simple method for analyzing and predicting periodic data known as the **additive modeling**. The idea is straightforward: represent a time series as a combination of patterns at different scales such as daily, weekly, seasonally, and yearly, along with an overall trend. Your energy use might rise in the summer and decrease in the winter, but have an overall decreasing trend as you increase the energy efficiency of your home. An additive model can show us both patterns/trends and make predictions based on these observations.\n",
    "\n",
    "The following image shows an additive model decomposition of a time series into an overall trend, yearly trend, and weekly trend.\n",
    "\n",
    "![](https://research.fb.com/wp-content/uploads/2017/02/prophet_example_for_post2.png?w=648)\n",
    "\n",
    "*“Prophet has been a key piece to improving Facebook’s ability to create a large number of trustworthy forecasts used for decision-making and even in product features.”*\n",
    "\n",
    "In order to compute its forecasts, the `fbprophet` library relies on the STAN programming language. Before installing `fbprophet`, you need to make sure that the `pystan` Python wrapper to STAN is installed. We shall first install `pystan` and `fbprophet` using `pip install`."
   ]
  },
  {
   "cell_type": "code",
   "execution_count": 2,
   "metadata": {},
   "outputs": [
    {
     "name": "stdout",
     "output_type": "stream",
     "text": [
      "Collecting pystan\n",
      "\u001b[?25l  Downloading https://files.pythonhosted.org/packages/b9/97/a613a98b72090e36b3bc5edc56977596038986cd224a2ae651c4c6a688b3/pystan-2.19.1.1-cp36-cp36m-manylinux1_x86_64.whl (67.3MB)\n",
      "\u001b[K     |████████████████████████████████| 67.3MB 48.8MB/s eta 0:00:01\n",
      "\u001b[?25hRequirement already satisfied: numpy>=1.7 in /opt/conda/envs/learn-env/lib/python3.6/site-packages (from pystan) (1.17.2)\n",
      "Requirement already satisfied: Cython!=0.25.1,>=0.22 in /opt/conda/envs/learn-env/lib/python3.6/site-packages (from pystan) (0.29.13)\n",
      "Installing collected packages: pystan\n",
      "Successfully installed pystan-2.19.1.1\n",
      "Collecting fbprophet\n",
      "\u001b[?25l  Downloading https://files.pythonhosted.org/packages/f7/86/4509e952f9724f084625e93e0bf8d8519b25c79029a0a916b0f996644c75/fbprophet-0.6.tar.gz (54kB)\n",
      "\u001b[K     |████████████████████████████████| 61kB 8.2MB/s  eta 0:00:01\n",
      "\u001b[?25hRequirement already satisfied: Cython>=0.22 in /opt/conda/envs/learn-env/lib/python3.6/site-packages (from fbprophet) (0.29.13)\n",
      "Collecting cmdstanpy==0.4 (from fbprophet)\n",
      "  Downloading https://files.pythonhosted.org/packages/e3/a7/6d045520e6ad11cf630b483f02a0645e743fcc7f75c28fd344c769100203/cmdstanpy-0.4.0-py3-none-any.whl\n",
      "Requirement already satisfied: pystan>=2.14 in /opt/conda/envs/learn-env/lib/python3.6/site-packages (from fbprophet) (2.19.1.1)\n",
      "Requirement already satisfied: numpy>=1.10.0 in /opt/conda/envs/learn-env/lib/python3.6/site-packages (from fbprophet) (1.17.2)\n",
      "Requirement already satisfied: pandas>=0.23.4 in /opt/conda/envs/learn-env/lib/python3.6/site-packages (from fbprophet) (0.25.1)\n",
      "Requirement already satisfied: matplotlib>=2.0.0 in /opt/conda/envs/learn-env/lib/python3.6/site-packages (from fbprophet) (3.1.1)\n",
      "Collecting LunarCalendar>=0.0.9 (from fbprophet)\n",
      "  Downloading https://files.pythonhosted.org/packages/ab/e0/a52ffc02395474858552ca6437226e23ad67e25fd85cb387f02e479cfe01/LunarCalendar-0.0.9-py2.py3-none-any.whl\n",
      "Collecting convertdate>=2.1.2 (from fbprophet)\n",
      "\u001b[?25l  Downloading https://files.pythonhosted.org/packages/c8/7a/8001b0fa34ed038d543500c5fa42c6f95103c338dd2cf12a3469c37e6b65/convertdate-2.2.1-py2.py3-none-any.whl (43kB)\n",
      "\u001b[K     |████████████████████████████████| 51kB 9.3MB/s  eta 0:00:01\n",
      "\u001b[?25hCollecting holidays>=0.9.5 (from fbprophet)\n",
      "\u001b[?25l  Downloading https://files.pythonhosted.org/packages/0a/95/73efcf821449709def494400d497aac620a3caeb83af932d874559030ced/holidays-0.10.2.tar.gz (110kB)\n",
      "\u001b[K     |████████████████████████████████| 112kB 14.7MB/s eta 0:00:01\n",
      "\u001b[?25hCollecting setuptools-git>=1.2 (from fbprophet)\n",
      "  Downloading https://files.pythonhosted.org/packages/05/97/dd99fa9c0d9627a7b3c103a00f1566d8193aca8d473884ed258cca82b06f/setuptools_git-1.2-py2.py3-none-any.whl\n",
      "Requirement already satisfied: python-dateutil>=2.8.0 in /opt/conda/envs/learn-env/lib/python3.6/site-packages (from fbprophet) (2.8.0)\n",
      "Requirement already satisfied: pytz>=2017.2 in /opt/conda/envs/learn-env/lib/python3.6/site-packages (from pandas>=0.23.4->fbprophet) (2019.3)\n",
      "Requirement already satisfied: cycler>=0.10 in /opt/conda/envs/learn-env/lib/python3.6/site-packages (from matplotlib>=2.0.0->fbprophet) (0.10.0)\n",
      "Requirement already satisfied: kiwisolver>=1.0.1 in /opt/conda/envs/learn-env/lib/python3.6/site-packages (from matplotlib>=2.0.0->fbprophet) (1.1.0)\n",
      "Requirement already satisfied: pyparsing!=2.0.4,!=2.1.2,!=2.1.6,>=2.0.1 in /opt/conda/envs/learn-env/lib/python3.6/site-packages (from matplotlib>=2.0.0->fbprophet) (2.4.2)\n",
      "Collecting ephem>=3.7.5.3 (from LunarCalendar>=0.0.9->fbprophet)\n",
      "\u001b[?25l  Downloading https://files.pythonhosted.org/packages/6e/ba/7c7ac20f0d5d97d3d1a35c21916c19f3420457cdb4ea70f714e64277fd1d/ephem-3.7.7.1-cp36-cp36m-manylinux2010_x86_64.whl (1.2MB)\n",
      "\u001b[K     |████████████████████████████████| 1.2MB 13.7MB/s eta 0:00:01\n",
      "\u001b[?25hCollecting pymeeus<=1,>=0.3.6 (from convertdate>=2.1.2->fbprophet)\n",
      "\u001b[?25l  Downloading https://files.pythonhosted.org/packages/2c/30/47957d487fff94083bdd17247734c165f12b5ac39a3abd1aa476a93eea6e/PyMeeus-0.3.7.tar.gz (732kB)\n",
      "\u001b[K     |████████████████████████████████| 737kB 20.9MB/s eta 0:00:01\n",
      "\u001b[?25hRequirement already satisfied: six in /opt/conda/envs/learn-env/lib/python3.6/site-packages (from holidays>=0.9.5->fbprophet) (1.12.0)\n",
      "Collecting korean_lunar_calendar (from holidays>=0.9.5->fbprophet)\n",
      "  Downloading https://files.pythonhosted.org/packages/15/41/aa426a4a9141afd8e7f5c8312bb59d5693274f3f7b34e73bdce4ee48b4c1/korean_lunar_calendar-0.2.1-py3-none-any.whl\n",
      "Requirement already satisfied: setuptools in /opt/conda/envs/learn-env/lib/python3.6/site-packages (from kiwisolver>=1.0.1->matplotlib>=2.0.0->fbprophet) (41.4.0)\n",
      "Building wheels for collected packages: fbprophet, holidays, pymeeus\n",
      "  Building wheel for fbprophet (setup.py) ... \u001b[?25lerror\n",
      "\u001b[31m  ERROR: Command errored out with exit status 1:\n",
      "   command: /opt/conda/envs/learn-env/bin/python -u -c 'import sys, setuptools, tokenize; sys.argv[0] = '\"'\"'/tmp/pip-install-nytetm39/fbprophet/setup.py'\"'\"'; __file__='\"'\"'/tmp/pip-install-nytetm39/fbprophet/setup.py'\"'\"';f=getattr(tokenize, '\"'\"'open'\"'\"', open)(__file__);code=f.read().replace('\"'\"'\\r\\n'\"'\"', '\"'\"'\\n'\"'\"');f.close();exec(compile(code, __file__, '\"'\"'exec'\"'\"'))' bdist_wheel -d /tmp/pip-wheel-zxd_bia1 --python-tag cp36\n",
      "       cwd: /tmp/pip-install-nytetm39/fbprophet/\n",
      "  Complete output (44 lines):\n",
      "  running bdist_wheel\n",
      "  running build\n",
      "  running build_py\n",
      "  creating build\n",
      "  creating build/lib\n",
      "  creating build/lib/fbprophet\n",
      "  creating build/lib/fbprophet/stan_model\n",
      "  Traceback (most recent call last):\n",
      "    File \"<string>\", line 1, in <module>\n",
      "    File \"/tmp/pip-install-nytetm39/fbprophet/setup.py\", line 148, in <module>\n",
      "      \"\"\"\n",
      "    File \"/opt/conda/envs/learn-env/lib/python3.6/site-packages/setuptools/__init__.py\", line 145, in setup\n",
      "      return distutils.core.setup(**attrs)\n",
      "    File \"/opt/conda/envs/learn-env/lib/python3.6/distutils/core.py\", line 148, in setup\n",
      "      dist.run_commands()\n",
      "    File \"/opt/conda/envs/learn-env/lib/python3.6/distutils/dist.py\", line 955, in run_commands\n",
      "      self.run_command(cmd)\n",
      "    File \"/opt/conda/envs/learn-env/lib/python3.6/distutils/dist.py\", line 974, in run_command\n",
      "      cmd_obj.run()\n",
      "    File \"/opt/conda/envs/learn-env/lib/python3.6/site-packages/wheel/bdist_wheel.py\", line 192, in run\n",
      "      self.run_command('build')\n",
      "    File \"/opt/conda/envs/learn-env/lib/python3.6/distutils/cmd.py\", line 313, in run_command\n",
      "      self.distribution.run_command(command)\n",
      "    File \"/opt/conda/envs/learn-env/lib/python3.6/distutils/dist.py\", line 974, in run_command\n",
      "      cmd_obj.run()\n",
      "    File \"/opt/conda/envs/learn-env/lib/python3.6/distutils/command/build.py\", line 135, in run\n",
      "      self.run_command(cmd_name)\n",
      "    File \"/opt/conda/envs/learn-env/lib/python3.6/distutils/cmd.py\", line 313, in run_command\n",
      "      self.distribution.run_command(command)\n",
      "    File \"/opt/conda/envs/learn-env/lib/python3.6/distutils/dist.py\", line 974, in run_command\n",
      "      cmd_obj.run()\n",
      "    File \"/tmp/pip-install-nytetm39/fbprophet/setup.py\", line 48, in run\n",
      "      build_models(target_dir)\n",
      "    File \"/tmp/pip-install-nytetm39/fbprophet/setup.py\", line 36, in build_models\n",
      "      from fbprophet.models import StanBackendEnum\n",
      "    File \"/tmp/pip-install-nytetm39/fbprophet/fbprophet/__init__.py\", line 8, in <module>\n",
      "      from fbprophet.forecaster import Prophet\n",
      "    File \"/tmp/pip-install-nytetm39/fbprophet/fbprophet/forecaster.py\", line 17, in <module>\n",
      "      from fbprophet.make_holidays import get_holiday_names, make_holidays_df\n",
      "    File \"/tmp/pip-install-nytetm39/fbprophet/fbprophet/make_holidays.py\", line 14, in <module>\n",
      "      import fbprophet.hdays as hdays_part2\n",
      "    File \"/tmp/pip-install-nytetm39/fbprophet/fbprophet/hdays.py\", line 13, in <module>\n",
      "      from convertdate.islamic import from_gregorian, to_gregorian\n",
      "  ModuleNotFoundError: No module named 'convertdate'\n",
      "  ----------------------------------------\u001b[0m\n",
      "\u001b[31m  ERROR: Failed building wheel for fbprophet\u001b[0m\n",
      "\u001b[?25h  Running setup.py clean for fbprophet\n",
      "  Building wheel for holidays (setup.py) ... \u001b[?25ldone\n",
      "\u001b[?25h  Created wheel for holidays: filename=holidays-0.10.2-cp36-none-any.whl size=111561 sha256=f28844724268f9270c57b02d038b109384a894c58af2b27df77ec2d5caa9c5ad\n",
      "  Stored in directory: /home/funny-invocation-2647/.cache/pip/wheels/68/55/29/95836cc75cbf85e6b7382e3e569613d6c050fcbe38d776ea64\n"
     ]
    },
    {
     "name": "stdout",
     "output_type": "stream",
     "text": [
      "  Building wheel for pymeeus (setup.py) ... \u001b[?25ldone\n",
      "\u001b[?25h  Created wheel for pymeeus: filename=PyMeeus-0.3.7-cp36-none-any.whl size=702877 sha256=4f9d6b3366fe300da5e325bc3e1d0e7469392d2a82ded78b2d01f67d7c09aa19\n",
      "  Stored in directory: /home/funny-invocation-2647/.cache/pip/wheels/8d/1a/e7/684cd77a99aac294f976db834fe613b5424f7c4d75ffb0b84d\n",
      "Successfully built holidays pymeeus\n",
      "Failed to build fbprophet\n",
      "Installing collected packages: cmdstanpy, ephem, LunarCalendar, pymeeus, convertdate, korean-lunar-calendar, holidays, setuptools-git, fbprophet\n",
      "  Running setup.py install for fbprophet ... \u001b[?25ldone\n",
      "\u001b[?25hSuccessfully installed LunarCalendar-0.0.9 cmdstanpy-0.4.0 convertdate-2.2.1 ephem-3.7.7.1 fbprophet-0.6 holidays-0.10.2 korean-lunar-calendar-0.2.1 pymeeus-0.3.7 setuptools-git-1.2\n"
     ]
    }
   ],
   "source": [
    "# If installing from terminal\n",
    "# pip install pystan\n",
    "# pip install fbprophet\n",
    "\n",
    "#If installing from a jupyter notebook\n",
    "!pip install pystan\n",
    "!pip install fbprophet"
   ]
  },
  {
   "cell_type": "markdown",
   "metadata": {},
   "source": [
    "Let's start by reading in our time series data. We will cover some data manipulation using `pandas`, accessing financial data using the `Quandl` library, and plotting with `matplotlib`. "
   ]
  },
  {
   "cell_type": "code",
   "execution_count": null,
   "metadata": {},
   "outputs": [],
   "source": [
    "# Import necessary libraries\n",
    "import warnings\n",
    "warnings.filterwarnings('ignore')\n",
    "\n",
    "import pandas as pd \n",
    "import matplotlib.pyplot as plt\n",
    "import matplotlib\n",
    "import seaborn as sns\n",
    "%matplotlib inline\n",
    "from matplotlib.pylab import rcParams\n",
    "plt.style.use('fivethirtyeight')\n",
    "\n",
    "from fbprophet import Prophet as proph"
   ]
  },
  {
   "cell_type": "code",
   "execution_count": null,
   "metadata": {},
   "outputs": [],
   "source": [
    "# Import passengers.csv and set it as a time series\n"
   ]
  },
  {
   "cell_type": "markdown",
   "metadata": {},
   "source": [
    "The `fbprophet` library also imposes the strict condition that the input columns be named `ds` (the time column) and `y` (the metric column), so let's rename the columns in our `ts` DataFrame. "
   ]
  },
  {
   "cell_type": "code",
   "execution_count": null,
   "metadata": {},
   "outputs": [],
   "source": [
    "# Rename the columns [Month, AirPassengers] to [ds, y]\n"
   ]
  },
  {
   "cell_type": "code",
   "execution_count": null,
   "metadata": {},
   "outputs": [],
   "source": [
    "# Plot the timeseries \n"
   ]
  },
  {
   "cell_type": "markdown",
   "metadata": {},
   "source": [
    "## Time Series Forecasting with Prophet\n",
    "\n",
    "We will now learn how to use the `fbrophet` library to predict future values of our time series. The Facebook team has abstracted away many of the inherent complexities of time series forecasting and made it more intuitive for analysts and developers alike to work with time series data.\n",
    "\n",
    "To begin, we will create a new prophet object with `Prophet()` and provide a number of arguments. For example, we can specify the desired range of our uncertainty interval by setting the `interval_width` parameter."
   ]
  },
  {
   "cell_type": "code",
   "execution_count": null,
   "metadata": {},
   "outputs": [],
   "source": [
    "# Set the uncertainty interval to 95% (the Prophet default is 80%)\n",
    "Model = Prophet(interval_width=0.95)"
   ]
  },
  {
   "cell_type": "markdown",
   "metadata": {},
   "source": [
    "Now that our model has been initialized, we can call its `.fit()` method with our DataFrame `ts` as input. The model fitting should take no longer than a few seconds."
   ]
  },
  {
   "cell_type": "code",
   "execution_count": null,
   "metadata": {},
   "outputs": [],
   "source": [
    "# Fit the timeseries to Model\n"
   ]
  },
  {
   "cell_type": "markdown",
   "metadata": {},
   "source": [
    "In order to obtain forecasts of our time series, we must provide the model with a new dataframe containing a `ds` column that holds the dates for which we want predictions. Conveniently, we do not have to concern ourselves with manually creating this dataframe because prophet provides the `.make_future_dataframe()` helper method. We will call this function to generate 36 datestamps in the future. The documentation for this method is available [here](https://www.rdocumentation.org/packages/prophet/topics/make_future_dataframe).\n",
    "\n",
    "It is also important to consider the frequency of our time series. Because we are working with monthly data, we clearly specified the desired frequency of the timestamps (in this case, MS is the start of the month). Therefore, the `.make_future_dataframe()` will generate 36 monthly timestamps for us. In other words, we are looking to predict future values of our time series 3 years into the future."
   ]
  },
  {
   "cell_type": "code",
   "execution_count": null,
   "metadata": {},
   "outputs": [],
   "source": [
    "# Use make_future_dataframe() with a monthly frequency and periods = 36 for 3 years\n"
   ]
  },
  {
   "cell_type": "markdown",
   "metadata": {},
   "source": [
    "This future dates dataframe can now be used as input to the `.predict()` method of the fitted model."
   ]
  },
  {
   "cell_type": "code",
   "execution_count": null,
   "metadata": {},
   "outputs": [],
   "source": [
    "# Predict the values for future dates and take the head of forecast\n"
   ]
  },
  {
   "cell_type": "markdown",
   "metadata": {},
   "source": [
    "We can see that Prophet returns a large table with many interesting columns, but we subset our output to the columns most relevant to forecasting, which are:\n",
    "\n",
    "* `ds`: the datestamp of the forecasted value\n",
    "* `yhat`: the forecasted value of our metric (in Statistics, yhat is a notation traditionally used to represent the predicted values of a value y)\n",
    "* `yhat_lower`: the lower bound of our forecasts\n",
    "* `yhat_upper`: the upper bound of our forecasts"
   ]
  },
  {
   "cell_type": "code",
   "execution_count": null,
   "metadata": {},
   "outputs": [],
   "source": [
    "# Subset above mentioned columns and view the tail \n"
   ]
  },
  {
   "cell_type": "markdown",
   "metadata": {},
   "source": [
    "A variation in values from the output presented above is to be expected as Prophet relies on Markov chain Monte Carlo (MCMC) methods to generate its forecasts. MCMC is a stochastic process, so values will be slightly different each time.\n",
    "\n",
    "Prophet also provides a convenient method to quickly plot the results of our forecasts."
   ]
  },
  {
   "cell_type": "code",
   "execution_count": null,
   "metadata": {},
   "outputs": [],
   "source": [
    "# Use Prophet's plot method to plot the predictions\n"
   ]
  },
  {
   "cell_type": "markdown",
   "metadata": {},
   "source": [
    "Prophet plots the observed values of the time series (the black dots), the forecasted values (blue line) and the uncertainty intervals of our forecasts (the blue shaded regions).\n",
    "\n",
    "One other particularly strong feature of Prophet is its ability to return the components of our forecasts. This can help reveal how daily, weekly, and yearly patterns of the time series contribute to the overall forecasted values. We can use the `.plot_components()` method to view the individual components."
   ]
  },
  {
   "cell_type": "code",
   "execution_count": null,
   "metadata": {},
   "outputs": [],
   "source": [
    "# Plot model components \n"
   ]
  },
  {
   "cell_type": "markdown",
   "metadata": {},
   "source": [
    "Since we are working with monthly data, Prophet will plot the trend and the yearly seasonality but if you were working with daily data, you would also see a weekly seasonality plot included. \n",
    "\n",
    "From the trend and seasonality, we can see that the trend is playing a large part in the underlying time series and seasonality comes into play mostly toward the beginning and the end of the year. With this information, we've been able to quickly model and forecast some data to get a feel for what might be coming our way in the future from this particular dataset. \n",
    "\n",
    "## Summary \n",
    "In this lab, you learned how to use the `fbprophet` library to perform time series forecasting in Python. We have been using out-of-the box parameters, but Prophet enables us to specify many more arguments. In particular, Prophet provides the functionality to bring your own knowledge about time series to the table."
   ]
  }
 ],
 "metadata": {
  "kernelspec": {
   "display_name": "Python 3",
   "language": "python",
   "name": "python3"
  },
  "language_info": {
   "codemirror_mode": {
    "name": "ipython",
    "version": 3
   },
   "file_extension": ".py",
   "mimetype": "text/x-python",
   "name": "python",
   "nbconvert_exporter": "python",
   "pygments_lexer": "ipython3",
   "version": "3.6.9"
  }
 },
 "nbformat": 4,
 "nbformat_minor": 2
}
